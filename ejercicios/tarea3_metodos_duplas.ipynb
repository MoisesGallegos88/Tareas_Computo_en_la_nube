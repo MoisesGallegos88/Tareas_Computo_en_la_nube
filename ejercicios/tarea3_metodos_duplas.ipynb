{
 "cells": [
  {
   "cell_type": "markdown",
   "metadata": {},
   "source": [
    "# metodos diferentes para cada tipo de areglo  aregos: listas,tuplas, conjuntos(sets),diccionarios"
   ]
  },
  {
   "cell_type": "code",
   "execution_count": null,
   "metadata": {},
   "outputs": [],
   "source": [
    "      "
   ]
  },
  {
   "cell_type": "markdown",
   "metadata": {},
   "source": [
    "# Métodos para Listas"
   ]
  },
  {
   "cell_type": "code",
   "execution_count": null,
   "metadata": {},
   "outputs": [
    {
     "name": "stdout",
     "output_type": "stream",
     "text": [
      "[10, 20, 30, 40, 50, 80]\n",
      "[10, 20, 25, 30, 40, 50, 80]\n",
      "[10, 20, 25, 30, 40, 50, 80, 70, 80]\n",
      "[10, 20, 25, 40, 50, 80, 70, 80]\n",
      "80\n",
      "3\n",
      "1\n",
      "[70, 80, 50, 40, 25, 20, 10]\n",
      "[10, 20, 25, 40, 50, 70, 80]\n",
      "[]\n"
     ]
    }
   ],
   "source": [
    "lista = [10, 20, 30, 40, 50]\n",
    "\n",
    "# 1. append() - Agrega un elemento al final de la lista\n",
    "lista.append(80)\n",
    "print(lista)  \n",
    "\n",
    "# 2. insert() - Inserta un elemento en una posición específica\n",
    "lista.insert(2, 25)\n",
    "print(lista) \n",
    "\n",
    "# 3. extend() - Une otra lista a la lista actual\n",
    "lista.extend([90, 100])\n",
    "print(lista)  \n",
    "\n",
    "# 4. remove() - Elimina la primera coincidencia de un elemento\n",
    "lista.remove(30)\n",
    "print(lista)  \n",
    "\n",
    "# 5. pop() - Elimina y devuelve el último elemento (o el de una posición específica)\n",
    "ultimo = lista.pop()\n",
    "print(ultimo)  \n",
    "\n",
    "# 6. index() - Devuelve la posición de un elemento\n",
    "print(lista.index(40))  \n",
    "\n",
    "# 7. count() - Cuenta cuántas veces aparece un elemento\n",
    "print(lista.count(20)) \n",
    "\n",
    "# 8. reverse() - Invierte la lista\n",
    "lista.reverse()\n",
    "print(lista)  \n",
    "\n",
    "# 9. sort() - Ordena la lista en orden ascendente\n",
    "lista.sort()\n",
    "print(lista) \n",
    "\n",
    "# 10. clear() - Vacía la lista\n",
    "lista.clear()\n",
    "print(lista) \n"
   ]
  },
  {
   "cell_type": "markdown",
   "metadata": {},
   "source": [
    "# Métodos para Tuplas (tuple)"
   ]
  },
  {
   "cell_type": "code",
   "execution_count": null,
   "metadata": {},
   "outputs": [],
   "source": [
    "tupla = (10, 20, 30, 40, 50, 20)\n",
    "\n",
    "# 1. count() - Cuenta cuántas veces aparece un elemento\n",
    "print(tupla.count(20))  \n",
    "\n",
    "# 2. index() - Devuelve la posición de un elemento\n",
    "print(tupla.index(30))  \n",
    "\n",
    "# 3. len() - Devuelve la longitud de la tupla\n",
    "print(len(tupla)) \n",
    "\n",
    "# 4. min() - Devuelve el valor mínimo\n",
    "print(min(tupla)) \n",
    "\n",
    "# 5. max() - Devuelve el valor máximo\n",
    "print(max(tupla))  \n",
    "\n",
    "# 6. sum() - Suma los elementos de la tupla\n",
    "print(sum(tupla))\n",
    "\n",
    "# 7. sorted() - Devuelve una lista ordenada de la tupla\n",
    "print(sorted(tupla))\n",
    "# 8. tuple() - Convierte un iterable en tupla\n",
    "lista = [1, 2, 3]\n",
    "nueva_tupla = tuple(lista)\n",
    "print(nueva_tupla)  \n",
    "\n",
    "# 9. Concatenación de tuplas\n",
    "tupla2 = (60, 70)\n",
    "tupla_concatenada = tupla + tupla2\n",
    "print(tupla_concatenada) \n",
    "\n",
    "# 10. Conversión de tupla a lista\n",
    "lista_convertida = list(tupla)\n",
    "print(lista_convertida) \n"
   ]
  },
  {
   "cell_type": "markdown",
   "metadata": {},
   "source": [
    "# Métodos para Conjuntos (set)"
   ]
  },
  {
   "cell_type": "code",
   "execution_count": null,
   "metadata": {},
   "outputs": [],
   "source": [
    "conjunto = {1, 2, 3, 4, 5}\n",
    "\n",
    "# 1. add() - Agrega un elemento\n",
    "conjunto.add(6)\n",
    "print(conjunto)  \n",
    "\n",
    "# 2. remove() - Elimina un elemento (da error si no existe)\n",
    "conjunto.remove(3)\n",
    "print(conjunto) \n",
    "\n",
    "# 3. discard() - Elimina un elemento sin error si no existe\n",
    "conjunto.discard(10) \n",
    "\n",
    "# 4. pop() - Elimina un elemento aleatorio\n",
    "elemento = conjunto.pop()\n",
    "print(elemento) \n",
    "\n",
    "# 5. clear() - Vacía el conjunto\n",
    "conjunto.clear()\n",
    "print(conjunto) \n",
    "\n",
    "# 6. union() - Une dos conjuntos\n",
    "a = {1, 2, 3}\n",
    "b = {3, 4, 5}\n",
    "print(a.union(b)) \n",
    "\n",
    "# 7. intersection() - Elementos en común\n",
    "print(a.intersection(b)) \n",
    "\n",
    "# 8. difference() - Elementos en 'a' pero no en 'b'\n",
    "print(a.difference(b)) \n",
    "\n",
    "# 9. symmetric_difference() - Elementos que están en un solo conjunto\n",
    "print(a.symmetric_difference(b))\n",
    "\n",
    "# 10. issubset() - Verifica si un conjunto es subconjunto de otro\n",
    "print({1, 2}.issubset(a)) \n"
   ]
  },
  {
   "cell_type": "markdown",
   "metadata": {},
   "source": [
    "# Métodos para Diccionarios (dict)"
   ]
  },
  {
   "cell_type": "code",
   "execution_count": null,
   "metadata": {},
   "outputs": [],
   "source": [
    "diccionario = {\"nombre\": \"Juan\", \"edad\": 25, \"ciudad\": \"Madrid\"}\n",
    "\n",
    "# 1. keys() - Devuelve las claves\n",
    "print(diccionario.keys())  \n",
    "\n",
    "# 2. values() - Devuelve los valores\n",
    "print(diccionario.values()) \n",
    "\n",
    "# 3. items() - Devuelve los pares clave-valor\n",
    "print(diccionario.items())  \n",
    "\n",
    "# 4. get() - Obtiene un valor sin error si la clave no existe\n",
    "print(diccionario.get(\"edad\"))  \n",
    "print(diccionario.get(\"altura\", \"No existe\"))  \n",
    "\n",
    "# 5. update() - Agrega o actualiza claves y valores\n",
    "diccionario.update({\"altura\": 1.75})\n",
    "print(diccionario) \n",
    "\n",
    "# 6. pop() - Elimina un elemento y lo devuelve\n",
    "edad = diccionario.pop(\"edad\")\n",
    "print(edad) \n",
    "\n",
    "# 7. popitem() - Elimina y devuelve el último par clave-valor\n",
    "ultimo = diccionario.popitem()\n",
    "print(ultimo) \n",
    "\n",
    "# 8. clear() - Vacía el diccionario\n",
    "diccionario.clear()\n",
    "print(diccionario)  \n",
    "\n",
    "# 9. fromkeys() - Crea un diccionario con claves y un valor por defecto\n",
    "nuevo_dicc = dict.fromkeys([\"a\", \"b\", \"c\"], 0)\n",
    "print(nuevo_dicc)  \n",
    "\n",
    "# 10. copy() - Copia un diccionario\n",
    "copia = nuevo_dicc.copy()\n",
    "print(copia)  \n"
   ]
  },
  {
   "cell_type": "markdown",
   "metadata": {},
   "source": []
  }
 ],
 "metadata": {
  "kernelspec": {
   "display_name": "Python 3",
   "language": "python",
   "name": "python3"
  },
  "language_info": {
   "codemirror_mode": {
    "name": "ipython",
    "version": 3
   },
   "file_extension": ".py",
   "mimetype": "text/x-python",
   "name": "python",
   "nbconvert_exporter": "python",
   "pygments_lexer": "ipython3",
   "version": "3.13.0"
  }
 },
 "nbformat": 4,
 "nbformat_minor": 2
}
