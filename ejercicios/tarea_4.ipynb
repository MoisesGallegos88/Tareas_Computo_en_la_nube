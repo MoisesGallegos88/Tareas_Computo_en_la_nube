{
 "cells": [
  {
   "cell_type": "markdown",
   "metadata": {},
   "source": [
    "Ejercicio práctico 1: Escribe un programa que solicite al usuario dos números y muestre la división de ambos, manejando posibles errores.\n",
    "\n"
   ]
  },
  {
   "cell_type": "code",
   "execution_count": 12,
   "metadata": {},
   "outputs": [
    {
     "name": "stdout",
     "output_type": "stream",
     "text": [
      "Debes ingresar números válidos.\n"
     ]
    }
   ],
   "source": [
    "try:\n",
    "    for i in range(3):  # Solo usamos 'i' para iterar tres veces\n",
    "        entrada = float(input(f\"Introduce el número {i + 1}: \"))  # Pedimos la entrada\n",
    "\n",
    "        resultado = entrada + entrada\n",
    "        print(f\"El resultado es: {resultado}\")\n",
    "\n",
    "except ZeroDivisionError:\n",
    "    print(\"No puedes dividir por cero.\")\n",
    "except ValueError:\n",
    "    print(\"Debes ingresar números válidos.\")\n"
   ]
  }
 ],
 "metadata": {
  "kernelspec": {
   "display_name": "Python 3",
   "language": "python",
   "name": "python3"
  },
  "language_info": {
   "codemirror_mode": {
    "name": "ipython",
    "version": 3
   },
   "file_extension": ".py",
   "mimetype": "text/x-python",
   "name": "python",
   "nbconvert_exporter": "python",
   "pygments_lexer": "ipython3",
   "version": "3.13.0"
  }
 },
 "nbformat": 4,
 "nbformat_minor": 2
}
