{
 "cells": [
  {
   "cell_type": "markdown",
   "metadata": {},
   "source": [
    "##  Entrada y salida\n"
   ]
  },
  {
   "cell_type": "code",
   "execution_count": 10,
   "metadata": {},
   "outputs": [
    {
     "name": "stdout",
     "output_type": "stream",
     "text": [
      "\n",
      "Tareas guardadas:\n",
      "hola\n",
      "jaja\n",
      "hola\n",
      "como\n",
      "estas\n",
      "espero\n",
      "que \n",
      "muy \n",
      "bien\n",
      "y \n",
      "al\n",
      "\n"
     ]
    }
   ],
   "source": [
    "while True:\n",
    "    nueva_tarea = input(\"Introduce una nueva tarea (o un número para salir): \")\n",
    "    \n",
    "    if nueva_tarea.isdigit():  # Verifica si es un número\n",
    "        break  # Sale del bucle si se ingresa un número\n",
    "    \n",
    "    with open(\"tareas.txt\", \"a\") as archivo:\n",
    "        archivo.write(nueva_tarea + \"\\n\")\n",
    "\n",
    "# Mostrar todas las tareas almacenadas\n",
    "print(\"\\nTareas guardadas:\")\n",
    "with open(\"tareas.txt\", \"r\") as archivo:\n",
    "    print(archivo.read())\n"
   ]
  },
  {
   "cell_type": "code",
   "execution_count": null,
   "metadata": {},
   "outputs": [],
   "source": [
    "nueva_tarea = input(\"introduce una nueva tarea: \")\n",
    "\n",
    "with open(\"tareas.txt\", \"a\") as archivo:\n",
    "    archivo.write(nueva_tarea + \"\\n\")"
   ]
  },
  {
   "cell_type": "code",
   "execution_count": null,
   "metadata": {},
   "outputs": [],
   "source": [
    "print(\"\\nTareas guardadas:\")\n",
    "with open(\"tareas.txt\", \"r\") as archivo:\n",
    "    print(archivo.read())"
   ]
  }
 ],
 "metadata": {
  "kernelspec": {
   "display_name": "Python 3",
   "language": "python",
   "name": "python3"
  },
  "language_info": {
   "codemirror_mode": {
    "name": "ipython",
    "version": 3
   },
   "file_extension": ".py",
   "mimetype": "text/x-python",
   "name": "python",
   "nbconvert_exporter": "python",
   "pygments_lexer": "ipython3",
   "version": "3.13.0"
  }
 },
 "nbformat": 4,
 "nbformat_minor": 2
}
