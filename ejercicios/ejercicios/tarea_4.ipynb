{
 "cells": [
  {
   "cell_type": "markdown",
   "metadata": {},
   "source": [
    "Ejercicio práctico 1: Escribe un programa que solicite al usuario dos tres  y muestre la división de ambos, manejando posibles errores.\n",
    "\n"
   ]
  },
  {
   "cell_type": "code",
   "execution_count": 7,
   "metadata": {},
   "outputs": [
    {
     "name": "stdout",
     "output_type": "stream",
     "text": [
      "Debes ingresar un número válido.\n",
      "Debes ingresar un número válido.\n",
      "Debes ingresar un número válido.\n",
      "Debes ingresar un número válido.\n",
      "Debes ingresar un número válido.\n",
      "El resultado de la división es: 0.02\n"
     ]
    }
   ],
   "source": [
    "while True:\n",
    "    try:\n",
    "        num1 = float(input(\"Introduce el número 1: \"))\n",
    "        break\n",
    "    except ValueError:\n",
    "        print(\"Debes ingresar un número válido.\")\n",
    "\n",
    "while True:\n",
    "    try:\n",
    "        num2 = float(input(\"Introduce el número 2: \"))\n",
    "        break\n",
    "    except ValueError:\n",
    "        print(\"Debes ingresar un número válido.\")\n",
    "\n",
    "while True:\n",
    "    try:\n",
    "        num3 = float(input(\"Introduce el número 3: \"))\n",
    "        break\n",
    "    except ValueError:\n",
    "        print(\"Debes ingresar un número válido.\")\n",
    "\n",
    "try:\n",
    "    resultado = num1 / num2 / num3\n",
    "    print(f\"El resultado de la división es: {resultado}\")\n",
    "except ZeroDivisionError:\n",
    "    print(\"No puedes dividir por cero.\")"
   ]
  }
 ],
 "metadata": {
  "kernelspec": {
   "display_name": "Python 3",
   "language": "python",
   "name": "python3"
  },
  "language_info": {
   "codemirror_mode": {
    "name": "ipython",
    "version": 3
   },
   "file_extension": ".py",
   "mimetype": "text/x-python",
   "name": "python",
   "nbconvert_exporter": "python",
   "pygments_lexer": "ipython3",
   "version": "3.13.0"
  }
 },
 "nbformat": 4,
 "nbformat_minor": 2
}
