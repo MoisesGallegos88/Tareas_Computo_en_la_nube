{
 "cells": [
  {
   "cell_type": "code",
   "execution_count": null,
   "metadata": {},
   "outputs": [
    {
     "name": "stdout",
     "output_type": "stream",
     "text": [
      "[True, True, False, False]\n"
     ]
    }
   ],
   "source": [
    "numeros = [\"123\", \"456\", \"78a\", \"12.3\"]\n",
    "resultado = [num.isdecimal() for num in numeros]\n",
    "print(resultado)  \n"
   ]
  },
  {
   "cell_type": "code",
   "execution_count": null,
   "metadata": {},
   "outputs": [
    {
     "name": "stdout",
     "output_type": "stream",
     "text": [
      "[True, True, False, True]\n"
     ]
    }
   ],
   "source": [
    "numeros = [\"123\", \"456\", \"78a\", \"²³\"]\n",
    "resultado = [num.isdigit() for num in numeros]\n",
    "print(resultado)  \n"
   ]
  },
  {
   "cell_type": "code",
   "execution_count": 12,
   "metadata": {},
   "outputs": [
    {
     "name": "stdout",
     "output_type": "stream",
     "text": [
      "[True, False, True, True]\n"
     ]
    }
   ],
   "source": [
    "palabras = [\"variable\", \"2nombre\", \"nombre_completo\", \"class\"]\n",
    "resultado = [palabra.isidentifier() for palabra in palabras]\n",
    "print(resultado) "
   ]
  },
  {
   "cell_type": "code",
   "execution_count": 11,
   "metadata": {},
   "outputs": [
    {
     "name": "stdout",
     "output_type": "stream",
     "text": [
      "[True, False, True, False]\n"
     ]
    }
   ],
   "source": [
    "palabras = [\"hola\", \"MUNDO\", \"python\", \"Java\"]\n",
    "resultado = [palabra.islower() for palabra in palabras]\n",
    "print(resultado) \n"
   ]
  },
  {
   "cell_type": "code",
   "execution_count": 9,
   "metadata": {},
   "outputs": [
    {
     "name": "stdout",
     "output_type": "stream",
     "text": [
      "[True, True, False, False]\n"
     ]
    }
   ],
   "source": [
    "numeros = [\"123\", \"456\", \"78a\", \"3/4\"]\n",
    "resultado = [num.isnumeric() for num in numeros]\n",
    "print(resultado)  \n"
   ]
  },
  {
   "cell_type": "code",
   "execution_count": null,
   "metadata": {},
   "outputs": [],
   "source": [
    "textos = [\"hola\", \"mundo\", \"\\n\", \"123\"]\n",
    "resultado = [texto.isprintable() for texto in textos]\n",
    "print(resultado)  \n"
   ]
  },
  {
   "cell_type": "code",
   "execution_count": null,
   "metadata": {},
   "outputs": [],
   "source": [
    "espacios = [\" \", \"   \", \"hola\", \"\\n\"]\n",
    "resultado = [espacio.isspace() for espacio in espacios]\n",
    "print(resultado)  \n"
   ]
  },
  {
   "cell_type": "code",
   "execution_count": null,
   "metadata": {},
   "outputs": [],
   "source": [
    "titulos = [\"Hola Mundo\", \"hola Mundo\", \"Python Es Genial\", \"python\"]\n",
    "resultado = [titulo.istitle() for titulo in titulos]\n",
    "print(resultado)  \n"
   ]
  },
  {
   "cell_type": "code",
   "execution_count": null,
   "metadata": {},
   "outputs": [],
   "source": [
    "palabras = [\"HOLA\", \"mundo\", \"PYTHON\", \"java\"]\n",
    "resultado = [palabra.isupper() for palabra in palabras]\n",
    "print(resultado)  \n"
   ]
  },
  {
   "cell_type": "code",
   "execution_count": null,
   "metadata": {},
   "outputs": [],
   "source": [
    "listas = [[\"a\", \"b\", \"c\"], [\"1\", \"2\", \"3\"], [\"x\", \"y\", \"z\"]]\n",
    "resultado = [\"-\".join(lista) for lista in listas]\n",
    "print(resultado)  \n"
   ]
  },
  {
   "cell_type": "code",
   "execution_count": null,
   "metadata": {},
   "outputs": [],
   "source": [
    "palabras = [\"hola\", \"python\", \"mundo\"]\n",
    "resultado = [palabra.ljust(10, \"*\") for palabra in palabras]\n",
    "print(resultado) \n"
   ]
  },
  {
   "cell_type": "code",
   "execution_count": null,
   "metadata": {},
   "outputs": [],
   "source": [
    "mayusculas = [\"HOLA\", \"PYTHON\", \"MUNDO\"]\n",
    "resultado = [texto.lower() for texto in mayusculas]\n",
    "print(resultado)\n"
   ]
  },
  {
   "cell_type": "code",
   "execution_count": null,
   "metadata": {},
   "outputs": [],
   "source": [
    "espacios = [\"  hola\", \"    python\", \" mundo\"]\n",
    "resultado = [espacio.lstrip() for espacio in espacios]\n",
    "print(resultado)  \n"
   ]
  },
  {
   "cell_type": "code",
   "execution_count": null,
   "metadata": {},
   "outputs": [],
   "source": [
    "palabras = [\"hola\", \"python\", \"mundo\"]\n",
    "tabla = str.maketrans(\"hola\", \"HOLA\")  \n",
    "resultado = [palabra.translate(tabla) for palabra in palabras]\n",
    "print(resultado)  \n"
   ]
  },
  {
   "cell_type": "code",
   "execution_count": null,
   "metadata": {},
   "outputs": [],
   "source": [
    "textos = [\"hola mundo\", \"python es genial\", \"aprendiendo\"]\n",
    "resultado = [texto.partition(\" \") for texto in textos]\n",
    "print(resultado)  \n",
    "\n"
   ]
  },
  {
   "cell_type": "code",
   "execution_count": 3,
   "metadata": {},
   "outputs": [
    {
     "name": "stdout",
     "output_type": "stream",
     "text": [
      "['hola Python', 'python es genial', 'Python abierto']\n"
     ]
    }
   ],
   "source": [
    "textos = [\"hola mundo\", \"python es genial\", \"mundo abierto\"]\n",
    "resultado = [texto.replace(\"mundo\", \"Python\") for texto in textos]\n",
    "print(resultado)  \n"
   ]
  }
 ],
 "metadata": {
  "kernelspec": {
   "display_name": "Python 3",
   "language": "python",
   "name": "python3"
  },
  "language_info": {
   "codemirror_mode": {
    "name": "ipython",
    "version": 3
   },
   "file_extension": ".py",
   "mimetype": "text/x-python",
   "name": "python",
   "nbconvert_exporter": "python",
   "pygments_lexer": "ipython3",
   "version": "3.13.0"
  }
 },
 "nbformat": 4,
 "nbformat_minor": 2
}
