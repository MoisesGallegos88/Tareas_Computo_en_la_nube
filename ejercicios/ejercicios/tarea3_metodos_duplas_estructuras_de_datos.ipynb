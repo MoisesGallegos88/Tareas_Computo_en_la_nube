{
 "cells": [
  {
   "cell_type": "markdown",
   "metadata": {},
   "source": [
    "# metodos diferentes para cada tipo de areglo  aregos: listas,tuplas, conjuntos(sets),diccionarios"
   ]
  },
  {
   "cell_type": "markdown",
   "metadata": {},
   "source": [
    "# Métodos para Listas"
   ]
  },
  {
   "cell_type": "code",
   "execution_count": 1,
   "metadata": {},
   "outputs": [
    {
     "name": "stdout",
     "output_type": "stream",
     "text": [
      "[10, 20, 30, 40, 50]\n"
     ]
    }
   ],
   "source": [
    "lista1 = [10, 20, 30, 40, 50]\n",
    "print(lista1)  # Mostrar la lista inicial\n"
   ]
  },
  {
   "cell_type": "code",
   "execution_count": 2,
   "metadata": {},
   "outputs": [
    {
     "name": "stdout",
     "output_type": "stream",
     "text": [
      "[10, 20, 30, 40, 50, 80]\n"
     ]
    }
   ],
   "source": [
    "# Módulo 2: append() - Agregar un elemento al final\n",
    "lista2 = [10, 20, 30, 40, 50]\n",
    "lista2.append(80)\n",
    "print(lista2)"
   ]
  },
  {
   "cell_type": "code",
   "execution_count": 3,
   "metadata": {},
   "outputs": [
    {
     "name": "stdout",
     "output_type": "stream",
     "text": [
      "[10, 20, 25, 30, 40, 50]\n"
     ]
    }
   ],
   "source": [
    "# Módulo 3: insert() - Insertar un elemento en una posición específica\n",
    "lista3 = [10, 20, 30, 40, 50]\n",
    "lista3.insert(2, 25)\n",
    "print(lista3)"
   ]
  },
  {
   "cell_type": "code",
   "execution_count": 4,
   "metadata": {},
   "outputs": [
    {
     "name": "stdout",
     "output_type": "stream",
     "text": [
      "[10, 20, 30, 40, 50, 90, 100]\n"
     ]
    }
   ],
   "source": [
    "# Módulo 4: extend() - Unir otra lista a la actual\n",
    "lista4 = [10, 20, 30, 40, 50]\n",
    "lista4.extend([90, 100])\n",
    "print(lista4)"
   ]
  },
  {
   "cell_type": "code",
   "execution_count": 5,
   "metadata": {},
   "outputs": [
    {
     "name": "stdout",
     "output_type": "stream",
     "text": [
      "[10, 20, 40, 50]\n"
     ]
    }
   ],
   "source": [
    "\n",
    "# Módulo 5: remove() - Eliminar la primera coincidencia de un elemento\n",
    "lista5 = [10, 20, 30, 40, 50]\n",
    "lista5.remove(30)\n",
    "print(lista5)"
   ]
  },
  {
   "cell_type": "code",
   "execution_count": 6,
   "metadata": {},
   "outputs": [
    {
     "name": "stdout",
     "output_type": "stream",
     "text": [
      "50\n",
      "[10, 20, 30, 40]\n"
     ]
    }
   ],
   "source": [
    "# Módulo 6: pop() - Eliminar y devolver el último elemento\n",
    "lista6 = [10, 20, 30, 40, 50]\n",
    "ultimo = lista6.pop()\n",
    "print(ultimo)\n",
    "print(lista6)"
   ]
  },
  {
   "cell_type": "code",
   "execution_count": 7,
   "metadata": {},
   "outputs": [
    {
     "name": "stdout",
     "output_type": "stream",
     "text": [
      "3\n"
     ]
    }
   ],
   "source": [
    "# Módulo 7: index() - Obtener la posición de un elemento\n",
    "lista7 = [10, 20, 30, 40, 50]\n",
    "print(lista7.index(40))"
   ]
  },
  {
   "cell_type": "code",
   "execution_count": 8,
   "metadata": {},
   "outputs": [
    {
     "name": "stdout",
     "output_type": "stream",
     "text": [
      "1\n"
     ]
    }
   ],
   "source": [
    "# Módulo 8: count() - Contar cuántas veces aparece un elemento\n",
    "lista8 = [10, 20, 30, 40, 50]\n",
    "print(lista8.count(20))"
   ]
  },
  {
   "cell_type": "code",
   "execution_count": 9,
   "metadata": {},
   "outputs": [
    {
     "name": "stdout",
     "output_type": "stream",
     "text": [
      "[50, 40, 30, 20, 10]\n"
     ]
    }
   ],
   "source": [
    "# Módulo 9: reverse() - Invertir la lista\n",
    "lista9 = [10, 20, 30, 40, 50]\n",
    "lista9.reverse()\n",
    "print(lista9)   "
   ]
  },
  {
   "cell_type": "code",
   "execution_count": 10,
   "metadata": {},
   "outputs": [
    {
     "name": "stdout",
     "output_type": "stream",
     "text": [
      "[10, 20, 30, 40, 50]\n"
     ]
    }
   ],
   "source": [
    "# Módulo 10: sort() - Ordenar la lista en orden ascendente\n",
    "lista10 = [50, 40, 30, 20, 10]\n",
    "lista10.sort()\n",
    "print(lista10)"
   ]
  },
  {
   "cell_type": "code",
   "execution_count": 11,
   "metadata": {},
   "outputs": [
    {
     "name": "stdout",
     "output_type": "stream",
     "text": [
      "[]\n"
     ]
    }
   ],
   "source": [
    "\n",
    "# Módulo 11: clear() - Vaciar la lista\n",
    "lista11 = [10, 20, 30, 40, 50]\n",
    "lista11.clear()\n",
    "print(lista11)\n"
   ]
  },
  {
   "cell_type": "markdown",
   "metadata": {},
   "source": [
    "# Métodos para Tuplas (tuple)"
   ]
  },
  {
   "cell_type": "code",
   "execution_count": 1,
   "metadata": {},
   "outputs": [
    {
     "name": "stdout",
     "output_type": "stream",
     "text": [
      "2\n"
     ]
    }
   ],
   "source": [
    "# 1. count() - Cuenta cuántas veces aparece un elemento\n",
    "tupla1 = (10, 20, 30, 40, 50, 20)\n",
    "print(tupla1.count(20))  "
   ]
  },
  {
   "cell_type": "code",
   "execution_count": null,
   "metadata": {},
   "outputs": [],
   "source": [
    "# 2. index() - Devuelve la posición de un elemento\n",
    "tupla2 = (10, 20, 30, 40, 50, 20)\n",
    "print(tupla2.index(30))  "
   ]
  },
  {
   "cell_type": "code",
   "execution_count": null,
   "metadata": {},
   "outputs": [],
   "source": [
    "# 3. len() - Devuelve la longitud de la tupla\n",
    "tupla3 = (10, 20, 30, 40, 50, 20)\n",
    "print(len(tupla3)) "
   ]
  },
  {
   "cell_type": "code",
   "execution_count": null,
   "metadata": {},
   "outputs": [],
   "source": [
    "# 4. min() - Devuelve el valor mínimo\n",
    "tupla4 = (10, 20, 30, 40, 50, 20)\n",
    "print(min(tupla4)) "
   ]
  },
  {
   "cell_type": "code",
   "execution_count": null,
   "metadata": {},
   "outputs": [],
   "source": [
    "# 5. max() - Devuelve el valor máximo\n",
    "tupla5 = (10, 20, 30, 40, 50, 20)\n",
    "print(max(tupla5))  "
   ]
  },
  {
   "cell_type": "code",
   "execution_count": null,
   "metadata": {},
   "outputs": [],
   "source": [
    "# 6. sum() - Suma los elementos de la tupla\n",
    "tupla6 = (10, 20, 30, 40, 50, 20)\n",
    "print(sum(tupla6))"
   ]
  },
  {
   "cell_type": "code",
   "execution_count": null,
   "metadata": {},
   "outputs": [],
   "source": [
    "# 7. sorted() - Devuelve una lista ordenada de la tupla\n",
    "tupla7 = (10, 20, 30, 40, 50, 20)\n",
    "print(sorted(tupla7))\n"
   ]
  },
  {
   "cell_type": "code",
   "execution_count": null,
   "metadata": {},
   "outputs": [],
   "source": [
    "# 8. tuple() - Convierte un iterable en tupla\n",
    "lista = [1, 2, 3]\n",
    "nueva_tupla = tuple(lista)\n",
    "print(nueva_tupla)  "
   ]
  },
  {
   "cell_type": "code",
   "execution_count": 3,
   "metadata": {},
   "outputs": [
    {
     "name": "stdout",
     "output_type": "stream",
     "text": [
      "(10, 20, 30, 40, 50, 20, 60, 70)\n"
     ]
    }
   ],
   "source": [
    "# 9. Concatenación de tuplas\n",
    "tupla8 = (10, 20, 30, 40, 50, 20)\n",
    "tupla9 = (60, 70)\n",
    "tupla_concatenada = tupla8 + tupla9\n",
    "print(tupla_concatenada) "
   ]
  },
  {
   "cell_type": "code",
   "execution_count": 2,
   "metadata": {},
   "outputs": [
    {
     "name": "stdout",
     "output_type": "stream",
     "text": [
      "[10, 20, 30, 40, 50, 20]\n"
     ]
    }
   ],
   "source": [
    "# 10. Conversión de tupla a lista\n",
    "tupla10 = (10, 20, 30, 40, 50, 20)\n",
    "lista_convertida = list(tupla10)\n",
    "print(lista_convertida)"
   ]
  },
  {
   "cell_type": "markdown",
   "metadata": {},
   "source": [
    "# Métodos para Conjuntos (set)"
   ]
  },
  {
   "cell_type": "code",
   "execution_count": 4,
   "metadata": {},
   "outputs": [
    {
     "name": "stdout",
     "output_type": "stream",
     "text": [
      "{1, 2, 3, 4, 5, 6}\n"
     ]
    }
   ],
   "source": [
    "\n",
    "# 1. add() - Agrega un elemento\n",
    "conjunto1 = {1, 2, 3, 4, 5}\n",
    "conjunto1.add(6)\n",
    "print(conjunto1)  "
   ]
  },
  {
   "cell_type": "code",
   "execution_count": 5,
   "metadata": {},
   "outputs": [
    {
     "name": "stdout",
     "output_type": "stream",
     "text": [
      "{1, 2, 4, 5}\n"
     ]
    }
   ],
   "source": [
    "# 2. remove() - Elimina un elemento (da error si no existe)\n",
    "conjunto2 = {1, 2, 3, 4, 5}\n",
    "conjunto2.remove(3)\n",
    "print(conjunto2) "
   ]
  },
  {
   "cell_type": "code",
   "execution_count": 6,
   "metadata": {},
   "outputs": [],
   "source": [
    "# 3. discard() - Elimina un elemento sin error si no existe\n",
    "conjunto3 = {1, 2, 3, 4, 5}\n",
    "conjunto3.discard(10) \n"
   ]
  },
  {
   "cell_type": "code",
   "execution_count": 7,
   "metadata": {},
   "outputs": [
    {
     "name": "stdout",
     "output_type": "stream",
     "text": [
      "1\n"
     ]
    }
   ],
   "source": [
    "# 4. pop() - Elimina un elemento aleatorio\n",
    "conjunto4 = {1, 2, 3, 4, 5}\n",
    "elemento = conjunto4.pop()\n",
    "print(elemento)"
   ]
  },
  {
   "cell_type": "code",
   "execution_count": 8,
   "metadata": {},
   "outputs": [
    {
     "name": "stdout",
     "output_type": "stream",
     "text": [
      "set()\n"
     ]
    }
   ],
   "source": [
    "# 5. clear() - Vacía el conjunto\n",
    "conjunto5 = {1, 2, 3, 4, 5}\n",
    "conjunto5.clear()\n",
    "print(conjunto5) "
   ]
  },
  {
   "cell_type": "code",
   "execution_count": 10,
   "metadata": {},
   "outputs": [
    {
     "name": "stdout",
     "output_type": "stream",
     "text": [
      "{3}\n"
     ]
    }
   ],
   "source": [
    "# 7. intersection() - Elementos en común\n",
    "a2 = {1, 2, 3}\n",
    "b2 = {3, 4, 5}\n",
    "print(a2.intersection(b2)) "
   ]
  },
  {
   "cell_type": "code",
   "execution_count": 9,
   "metadata": {},
   "outputs": [
    {
     "name": "stdout",
     "output_type": "stream",
     "text": [
      "{1, 2, 3, 4, 5}\n"
     ]
    }
   ],
   "source": [
    "# 6. union() - Une dos conjuntos\n",
    "a = {1, 2, 3}\n",
    "b = {3, 4, 5}\n",
    "print(a.union(b)) "
   ]
  },
  {
   "cell_type": "code",
   "execution_count": 11,
   "metadata": {},
   "outputs": [
    {
     "name": "stdout",
     "output_type": "stream",
     "text": [
      "{1, 2}\n"
     ]
    }
   ],
   "source": [
    "# 8. difference() - Elementos en 'a' pero no en 'b'\n",
    "a3 = {1, 2, 3}\n",
    "b3 = {3, 4, 5}\n",
    "print(a3.difference(b3)) "
   ]
  },
  {
   "cell_type": "code",
   "execution_count": 12,
   "metadata": {},
   "outputs": [
    {
     "name": "stdout",
     "output_type": "stream",
     "text": [
      "{1, 2, 4, 5}\n"
     ]
    }
   ],
   "source": [
    "# 9. symmetric_difference() - Elementos que están en un solo conjunto\n",
    "a4 = {1, 2, 3}\n",
    "b4 = {3, 4, 5}\n",
    "print(a4.symmetric_difference(b4))"
   ]
  },
  {
   "cell_type": "code",
   "execution_count": 13,
   "metadata": {},
   "outputs": [
    {
     "name": "stdout",
     "output_type": "stream",
     "text": [
      "True\n"
     ]
    }
   ],
   "source": [
    "# 10. issubset() - Verifica si un conjunto es subconjunto de otro\n",
    "conjunto6 = {1, 2}\n",
    "a5 = {1, 2, 3}\n",
    "print(conjunto6.issubset(a5))\n"
   ]
  },
  {
   "cell_type": "markdown",
   "metadata": {},
   "source": [
    "# Métodos para Diccionarios (dict)"
   ]
  },
  {
   "cell_type": "markdown",
   "metadata": {},
   "source": []
  },
  {
   "cell_type": "code",
   "execution_count": 14,
   "metadata": {},
   "outputs": [
    {
     "name": "stdout",
     "output_type": "stream",
     "text": [
      "dict_keys(['nombre', 'edad', 'ciudad'])\n"
     ]
    }
   ],
   "source": [
    "# 1. keys() - Devuelve las claves\n",
    "diccionario1 = {\"nombre\": \"Juan\", \"edad\": 25, \"ciudad\": \"Madrid\"}\n",
    "print(diccionario1.keys())  "
   ]
  },
  {
   "cell_type": "code",
   "execution_count": 15,
   "metadata": {},
   "outputs": [
    {
     "name": "stdout",
     "output_type": "stream",
     "text": [
      "dict_values(['Juan', 25, 'Madrid'])\n"
     ]
    }
   ],
   "source": [
    "# 2. values() - Devuelve los valores\n",
    "diccionario2 = {\"nombre\": \"Juan\", \"edad\": 25, \"ciudad\": \"Madrid\"}\n",
    "print(diccionario2.values()) "
   ]
  },
  {
   "cell_type": "code",
   "execution_count": 16,
   "metadata": {},
   "outputs": [
    {
     "name": "stdout",
     "output_type": "stream",
     "text": [
      "dict_items([('nombre', 'Juan'), ('edad', 25), ('ciudad', 'Madrid')])\n"
     ]
    }
   ],
   "source": [
    "# 3. items() - Devuelve los pares clave-valor\n",
    "diccionario3 = {\"nombre\": \"Juan\", \"edad\": 25, \"ciudad\": \"Madrid\"}\n",
    "print(diccionario3.items())  "
   ]
  },
  {
   "cell_type": "code",
   "execution_count": 17,
   "metadata": {},
   "outputs": [
    {
     "name": "stdout",
     "output_type": "stream",
     "text": [
      "25\n",
      "No existe\n"
     ]
    }
   ],
   "source": [
    "# 4. get() - Obtiene un valor sin error si la clave no existe\n",
    "diccionario4 = {\"nombre\": \"Juan\", \"edad\": 25, \"ciudad\": \"Madrid\"}\n",
    "print(diccionario4.get(\"edad\"))  \n",
    "print(diccionario4.get(\"altura\", \"No existe\"))"
   ]
  },
  {
   "cell_type": "code",
   "execution_count": 18,
   "metadata": {},
   "outputs": [
    {
     "name": "stdout",
     "output_type": "stream",
     "text": [
      "{'nombre': 'Juan', 'edad': 25, 'ciudad': 'Madrid', 'altura': 1.75}\n"
     ]
    }
   ],
   "source": [
    "# 5. update() - Agrega o actualiza claves y valores\n",
    "diccionario5 = {\"nombre\": \"Juan\", \"edad\": 25, \"ciudad\": \"Madrid\"}\n",
    "diccionario5.update({\"altura\": 1.75})\n",
    "print(diccionario5) "
   ]
  },
  {
   "cell_type": "code",
   "execution_count": 19,
   "metadata": {},
   "outputs": [
    {
     "name": "stdout",
     "output_type": "stream",
     "text": [
      "25\n"
     ]
    }
   ],
   "source": [
    "# 6. pop() - Elimina un elemento y lo devuelve\n",
    "diccionario6 = {\"nombre\": \"Juan\", \"edad\": 25, \"ciudad\": \"Madrid\"}\n",
    "edad = diccionario6.pop(\"edad\")\n",
    "print(edad) "
   ]
  },
  {
   "cell_type": "code",
   "execution_count": 20,
   "metadata": {},
   "outputs": [
    {
     "name": "stdout",
     "output_type": "stream",
     "text": [
      "('ciudad', 'Madrid')\n"
     ]
    }
   ],
   "source": [
    "# 7. popitem() - Elimina y devuelve el último par clave-valor\n",
    "diccionario7 = {\"nombre\": \"Juan\", \"edad\": 25, \"ciudad\": \"Madrid\"}\n",
    "ultimo = diccionario7.popitem()\n",
    "print(ultimo) \n"
   ]
  },
  {
   "cell_type": "code",
   "execution_count": 21,
   "metadata": {},
   "outputs": [
    {
     "name": "stdout",
     "output_type": "stream",
     "text": [
      "{}\n"
     ]
    }
   ],
   "source": [
    "# 8. clear() - Vacía el diccionario\n",
    "diccionario8 = {\"nombre\": \"Juan\", \"edad\": 25, \"ciudad\": \"Madrid\"}\n",
    "diccionario8.clear()\n",
    "print(diccionario8)  "
   ]
  },
  {
   "cell_type": "code",
   "execution_count": 23,
   "metadata": {},
   "outputs": [
    {
     "name": "stdout",
     "output_type": "stream",
     "text": [
      "{'a': 0, 'b': 0, 'c': 0}\n"
     ]
    }
   ],
   "source": [
    "# 9. fromkeys() - Crea un diccionario con claves y un valor por defecto\n",
    "nuevo_dicc = dict.fromkeys([\"a\", \"b\", \"c\"], 0)\n",
    "print(nuevo_dicc)  "
   ]
  },
  {
   "cell_type": "code",
   "execution_count": 24,
   "metadata": {},
   "outputs": [
    {
     "name": "stdout",
     "output_type": "stream",
     "text": [
      "{'a': 1, 'b': 2, 'c': 3}\n"
     ]
    }
   ],
   "source": [
    "\n",
    "# 10. copy() - Copia un diccionario\n",
    "diccionario9 = {\"a\": 1, \"b\": 2, \"c\": 3}\n",
    "copia = diccionario9.copy()\n",
    "print(copia)"
   ]
  }
 ],
 "metadata": {
  "kernelspec": {
   "display_name": "Python 3",
   "language": "python",
   "name": "python3"
  },
  "language_info": {
   "codemirror_mode": {
    "name": "ipython",
    "version": 3
   },
   "file_extension": ".py",
   "mimetype": "text/x-python",
   "name": "python",
   "nbconvert_exporter": "python",
   "pygments_lexer": "ipython3",
   "version": "3.13.0"
  }
 },
 "nbformat": 4,
 "nbformat_minor": 2
}
