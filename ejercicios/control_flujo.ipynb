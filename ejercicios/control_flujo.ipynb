{
 "cells": [
  {
   "cell_type": "markdown",
   "metadata": {},
   "source": [
    "### **1. condiciones : ´if´ ´elif´ ´else´** "
   ]
  },
  {
   "cell_type": "code",
   "execution_count": 2,
   "metadata": {},
   "outputs": [
    {
     "name": "stdout",
     "output_type": "stream",
     "text": [
      "Tienes just9 18 añotes\n"
     ]
    }
   ],
   "source": [
    "edad = 18\n",
    "\n",
    "if edad  <  18:\n",
    "    print(\" eres menor de edad\")\n",
    "elif edad == 18:\n",
    "    print (\"Tienes just9 18 añotes\")\n",
    "else:\n",
    "    print (\"eres mayor de edad\")"
   ]
  },
  {
   "cell_type": "markdown",
   "metadata": {},
   "source": [
    "# Bucles"
   ]
  },
  {
   "cell_type": "code",
   "execution_count": 12,
   "metadata": {},
   "outputs": [
    {
     "name": "stdout",
     "output_type": "stream",
     "text": [
      "manzana\n",
      "banana\n",
      "ceresa\n"
     ]
    }
   ],
   "source": [
    "#iteracion por listas   \n",
    "frutas = [\"manzana\",\"banana\",\"ceresa\"]\n",
    "\n",
    "for fruta in frutas:\n",
    "    print(fruta)"
   ]
  },
  {
   "cell_type": "code",
   "execution_count": 11,
   "metadata": {},
   "outputs": [
    {
     "name": "stdout",
     "output_type": "stream",
     "text": [
      "0\n",
      "1\n",
      "2\n",
      "3\n",
      "4\n",
      "5\n",
      "6\n",
      "7\n",
      "8\n",
      "9\n"
     ]
    }
   ],
   "source": [
    "#IERACION POR RANGO\n",
    "\n",
    "for i in range(10):\n",
    "    print (i)"
   ]
  },
  {
   "cell_type": "code",
   "execution_count": 14,
   "metadata": {},
   "outputs": [
    {
     "name": "stdout",
     "output_type": "stream",
     "text": [
      "la fruta manzana tiene  el indice 0 \n",
      "la fruta banana tiene  el indice 1 \n",
      "la fruta ceresa tiene  el indice 2 \n"
     ]
    }
   ],
   "source": [
    "# fir cib ebynarate () (indice y el elemnto de la lista)\n",
    "#iteracion por listas   \n",
    "frutas = [\"manzana\",\"banana\",\"ceresa\"]\n",
    "\n",
    "for i ,fruta in enumerate(frutas):\n",
    "    print(f\"la fruta {fruta} tiene  el indice {i} \")"
   ]
  },
  {
   "cell_type": "code",
   "execution_count": null,
   "metadata": {},
   "outputs": [
    {
     "name": "stdout",
     "output_type": "stream",
     "text": [
      "LA FRITA ['manzana', 'banana', 'ceresa'] ES DE COLOR rojo\n",
      "LA FRITA ['manzana', 'banana', 'ceresa'] ES DE COLOR amarillo\n",
      "LA FRITA ['manzana', 'banana', 'ceresa'] ES DE COLOR rojo\n"
     ]
    }
   ],
   "source": [
    "#FOR CON ZIP ( ITERA SOBRE DOS LISTAS AL MISMO TIEMPO \n",
    "frutas = [\"manzana\",\"banana\",\"ceresa\"]\n",
    "colores = [\"rojo\", \"amarillo\" , \"rojo\"]\n",
    "\n",
    "for fruta, color in zip(frutas,colores ):\n",
    "    print(f\"LA FRUTA {frutas} ES DE COLOR {color}\")"
   ]
  },
  {
   "cell_type": "code",
   "execution_count": 22,
   "metadata": {},
   "outputs": [
    {
     "name": "stdout",
     "output_type": "stream",
     "text": [
      "['MANZANA', 'BANANA', 'CERESA']\n"
     ]
    }
   ],
   "source": [
    "frutas = [\"manzana\",\"banana\",\"ceresa\"]\n",
    "\n",
    "nueva_lista = [frutas.upper() for frutas in frutas]\n",
    "print ( nueva_lista)"
   ]
  },
  {
   "cell_type": "code",
   "execution_count": 10,
   "metadata": {},
   "outputs": [
    {
     "name": "stdout",
     "output_type": "stream",
     "text": [
      "['Manzana', 'Banana', 'Cereza']\n"
     ]
    }
   ],
   "source": [
    "frutas = [\"manzana\", \"banana\", \"cereza\"]  # \"ceresa\" corregido a \"cereza\"\n",
    "nueva_lista = [fruta.capitalize() for fruta in frutas]  # Iteramos sobre cada elemento\n",
    "\n",
    "print(nueva_lista)  # Imprime la nueva lista con los elementos capitalizados\n"
   ]
  }
 ],
 "metadata": {
  "kernelspec": {
   "display_name": "Python 3",
   "language": "python",
   "name": "python3"
  },
  "language_info": {
   "codemirror_mode": {
    "name": "ipython",
    "version": 3
   },
   "file_extension": ".py",
   "mimetype": "text/x-python",
   "name": "python",
   "nbconvert_exporter": "python",
   "pygments_lexer": "ipython3",
   "version": "3.13.0"
  }
 },
 "nbformat": 4,
 "nbformat_minor": 2
}
